{
 "metadata": {
  "name": "Bacalso_ipythonexercise_part2"
 },
 "nbformat": 3,
 "nbformat_minor": 0,
 "worksheets": [
  {
   "cells": [
    {
     "cell_type": "raw",
     "metadata": {},
     "source": "Part 2.1\n1. Searching, completing, and executing previously-executed commands with minimal\nTyping. Persisting the command history between sessions. Logging the input/output history to a file.\n2. Ctrl P\n3. The variable will be stored to the underscores. For each variable there is a corresponding output variable\nPart 2.2\n1. It is turned on by the command %logstart\nPart 2.3\n1. !cmd\n2. output = !cmd args\n3. %bookmark\n4. %cd directory\n5. %pwed\n6. %dhist\n7. %env\nPart 2.4\n1. ip_info[0].strip()\n'inet addr:192.168.1.137 Bcast:192.168.1.255 Mask:255.255.255.0'\nPart 2.5\n1. %bookmark db /home/Documents /Python/\n2. Bookmarks are automatically persisted between python sessions.\n\n\n\n\n\n\n\n\n\nPart 2.6\n1. AssertionError Traceback (most recent call last)\n/home/Documents/Python/ipython_bug.py in <module>()\n13 \tthrows_an_exception()\n14\n---> \t15 calling_things()\n\n/home/ Documents/Python/ipython_bug.py in calling_things()\n11 def calling_things():\n12 \tworks_fine()\n---> \t13 \tthrows_an_exception()\n14\n15 calling_things()\n\n/home/Documents/Python/ipython_bug.py in throws_an_exception()\n7\ta = 5\n8 \tb = 6\n----> \t9 \tassert(a + b == 10)\n10\n11 def calling_things():\n\nAssertionError:\n\nIn [3]: %debug\n> /home/ Documents/Python/ipython_bug.py(9)throws_an_exception()\n8\t b = 6\n----> \t9 \tassert(a + b == 10)\n10\nipdb>\nPart 2.7\n\tstrings = ['foo', 'foobar', 'baz', 'qux', 'python', 'Guido Van Rossum'] * 100000\nmethod1 = [x for x in strings if x.startswith('foo')]\nmethod2 = [x for x in strings if x[:3] == 'foo']\n%time method1 = [x for x in strings if x.startswith('foo')]\n%time method2 = [x for x in strings if x[:3] == 'foo']\n\n\nPart 2.8\n\nimport numpy as np\nfrom numpy.linalg import eigvals\n\ndef run_experiment(niter=100):\n    Y = 100\n    results = []\n    \n    for _ in xrange(niter):\n        mat = np.random.randn(Y, Y)\n        max_eigenvalue = np.abs(eigvals(mat)).max()\n        results.append(max_eigenvalue)\n    return results\n\nsome_results = run_experiment()\nprint 'Largest one we saw: %s' % np.max(some_results)\n\n\npython -m cProfile cprof_example.py\n\npython -m cProfile -s cumulative cprof_example.py\n\n%prun -l some_number -s cumulative run_experiment()\n\n%prun -l 7 -s cumulative run_experiment()"
    }
   ],
   "metadata": {}
  }
 ]
}